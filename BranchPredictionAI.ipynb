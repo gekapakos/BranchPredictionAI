{
  "cells": [
    {
      "cell_type": "code",
      "execution_count": 1,
      "metadata": {
        "id": "rXknk8hUDvEQ"
      },
      "outputs": [],
      "source": [
        "# Import the libraries\n",
        "import pandas as pd\n",
        "import numpy as np\n",
        "import matplotlib.pyplot as plt\n",
        "import itertools\n",
        "from sklearn.model_selection import train_test_split\n",
        "from sklearn.preprocessing import StandardScaler\n",
        "from sklearn.linear_model import LogisticRegression\n",
        "from sklearn.metrics import confusion_matrix, accuracy_score\n",
        "from sklearn.svm import SVC\n",
        "from sklearn.pipeline import make_pipeline"
      ]
    },
    {
      "cell_type": "code",
      "execution_count": 2,
      "metadata": {
        "colab": {
          "base_uri": "https://localhost:8080/",
          "height": 423
        },
        "id": "MgI2NBMeD4nl",
        "outputId": "823eecf2-a356-497a-8319-5421bdd3d26f"
      },
      "outputs": [
        {
          "data": {
            "text/html": [
              "<div>\n",
              "<style scoped>\n",
              "    .dataframe tbody tr th:only-of-type {\n",
              "        vertical-align: middle;\n",
              "    }\n",
              "\n",
              "    .dataframe tbody tr th {\n",
              "        vertical-align: top;\n",
              "    }\n",
              "\n",
              "    .dataframe thead th {\n",
              "        text-align: right;\n",
              "    }\n",
              "</style>\n",
              "<table border=\"1\" class=\"dataframe\">\n",
              "  <thead>\n",
              "    <tr style=\"text-align: right;\">\n",
              "      <th></th>\n",
              "      <th>branch_addr</th>\n",
              "      <th>taken</th>\n",
              "      <th>history</th>\n",
              "    </tr>\n",
              "  </thead>\n",
              "  <tbody>\n",
              "    <tr>\n",
              "      <th>0</th>\n",
              "      <td>6ffcd6e7c25b</td>\n",
              "      <td>1</td>\n",
              "      <td>1</td>\n",
              "    </tr>\n",
              "    <tr>\n",
              "      <th>1</th>\n",
              "      <td>6ffcd6e7c27b</td>\n",
              "      <td>1</td>\n",
              "      <td>1,1</td>\n",
              "    </tr>\n",
              "    <tr>\n",
              "      <th>2</th>\n",
              "      <td>6ffcd6e7c275</td>\n",
              "      <td>0</td>\n",
              "      <td>1,1,0</td>\n",
              "    </tr>\n",
              "    <tr>\n",
              "      <th>3</th>\n",
              "      <td>6ffcd6e7c27b</td>\n",
              "      <td>1</td>\n",
              "      <td>1,1,0,1</td>\n",
              "    </tr>\n",
              "    <tr>\n",
              "      <th>4</th>\n",
              "      <td>6ffcd6e7c275</td>\n",
              "      <td>0</td>\n",
              "      <td>1,1,0,1,0</td>\n",
              "    </tr>\n",
              "    <tr>\n",
              "      <th>...</th>\n",
              "      <td>...</td>\n",
              "      <td>...</td>\n",
              "      <td>...</td>\n",
              "    </tr>\n",
              "    <tr>\n",
              "      <th>305986</th>\n",
              "      <td>6ffcc3296999</td>\n",
              "      <td>0</td>\n",
              "      <td>1,0,0,1,1,1,1,0,1,0,1,0,0,1,0,0,1,0,0,0</td>\n",
              "    </tr>\n",
              "    <tr>\n",
              "      <th>305987</th>\n",
              "      <td>6ffcc3298e85</td>\n",
              "      <td>1</td>\n",
              "      <td>0,0,1,1,1,1,0,1,0,1,0,0,1,0,0,1,0,0,0,1</td>\n",
              "    </tr>\n",
              "    <tr>\n",
              "      <th>305988</th>\n",
              "      <td>6ffcc32969c9</td>\n",
              "      <td>0</td>\n",
              "      <td>0,1,1,1,1,0,1,0,1,0,0,1,0,0,1,0,0,0,1,0</td>\n",
              "    </tr>\n",
              "    <tr>\n",
              "      <th>305989</th>\n",
              "      <td>6ffcc3247b74</td>\n",
              "      <td>1</td>\n",
              "      <td>1,1,1,1,0,1,0,1,0,0,1,0,0,1,0,0,0,1,0,1</td>\n",
              "    </tr>\n",
              "    <tr>\n",
              "      <th>305990</th>\n",
              "      <td>6ffcc32ee210</td>\n",
              "      <td>1</td>\n",
              "      <td>1,1,1,0,1,0,1,0,0,1,0,0,1,0,0,0,1,0,1,1</td>\n",
              "    </tr>\n",
              "  </tbody>\n",
              "</table>\n",
              "<p>305991 rows × 3 columns</p>\n",
              "</div>"
            ],
            "text/plain": [
              "         branch_addr  taken                                  history\n",
              "0       6ffcd6e7c25b      1                                        1\n",
              "1       6ffcd6e7c27b      1                                      1,1\n",
              "2       6ffcd6e7c275      0                                    1,1,0\n",
              "3       6ffcd6e7c27b      1                                  1,1,0,1\n",
              "4       6ffcd6e7c275      0                                1,1,0,1,0\n",
              "...              ...    ...                                      ...\n",
              "305986  6ffcc3296999      0  1,0,0,1,1,1,1,0,1,0,1,0,0,1,0,0,1,0,0,0\n",
              "305987  6ffcc3298e85      1  0,0,1,1,1,1,0,1,0,1,0,0,1,0,0,1,0,0,0,1\n",
              "305988  6ffcc32969c9      0  0,1,1,1,1,0,1,0,1,0,0,1,0,0,1,0,0,0,1,0\n",
              "305989  6ffcc3247b74      1  1,1,1,1,0,1,0,1,0,0,1,0,0,1,0,0,0,1,0,1\n",
              "305990  6ffcc32ee210      1  1,1,1,0,1,0,1,0,0,1,0,0,1,0,0,0,1,0,1,1\n",
              "\n",
              "[305991 rows x 3 columns]"
            ]
          },
          "execution_count": 2,
          "metadata": {},
          "output_type": "execute_result"
        }
      ],
      "source": [
        "# Importing the dataset\n",
        "dataset = pd.read_csv('dataset.csv')\n",
        "\n",
        "# Print head and tail of the dataset\n",
        "dataset"
      ]
    },
    {
      "cell_type": "code",
      "execution_count": 3,
      "metadata": {
        "colab": {
          "base_uri": "https://localhost:8080/",
          "height": 178
        },
        "id": "5_0EgRgbD70p",
        "outputId": "ef741e59-3a35-4ab1-f5ae-18b10dd3b82e"
      },
      "outputs": [
        {
          "data": {
            "text/plain": [
              "branch_addr    0\n",
              "taken          0\n",
              "history        0\n",
              "dtype: int64"
            ]
          },
          "execution_count": 3,
          "metadata": {},
          "output_type": "execute_result"
        }
      ],
      "source": [
        "# Check for missing values\n",
        "dataset.isnull().sum() # No missing values exist"
      ]
    },
    {
      "cell_type": "code",
      "execution_count": 4,
      "metadata": {
        "colab": {
          "base_uri": "https://localhost:8080/",
          "height": 484
        },
        "id": "_llYft1yENrA",
        "outputId": "75d14738-22f4-4966-e9be-3eda8df0da04"
      },
      "outputs": [
        {
          "data": {
            "text/plain": [
              "<Axes: title={'center': 'Outcome distribution'}, xlabel='taken'>"
            ]
          },
          "execution_count": 4,
          "metadata": {},
          "output_type": "execute_result"
        },
        {
          "data": {
            "image/png": "[encoded data removed]",
            "text/plain": [
              "<Figure size 640x480 with 1 Axes>"
            ]
          },
          "metadata": {},
          "output_type": "display_data"
        }
      ],
      "source": [
        "dataset[\"taken\"].value_counts().plot.bar(title=\"Outcome distribution\")"
      ]
    },
    {
      "cell_type": "code",
      "execution_count": 5,
      "metadata": {
        "colab": {
          "base_uri": "https://localhost:8080/",
          "height": 300
        },
        "id": "u29e6mViExah",
        "outputId": "58123827-a6f8-41bc-bd23-28354f024087"
      },
      "outputs": [
        {
          "data": {
            "text/html": [
              "<div>\n",
              "<style scoped>\n",
              "    .dataframe tbody tr th:only-of-type {\n",
              "        vertical-align: middle;\n",
              "    }\n",
              "\n",
              "    .dataframe tbody tr th {\n",
              "        vertical-align: top;\n",
              "    }\n",
              "\n",
              "    .dataframe thead th {\n",
              "        text-align: right;\n",
              "    }\n",
              "</style>\n",
              "<table border=\"1\" class=\"dataframe\">\n",
              "  <thead>\n",
              "    <tr style=\"text-align: right;\">\n",
              "      <th></th>\n",
              "      <th>taken</th>\n",
              "    </tr>\n",
              "  </thead>\n",
              "  <tbody>\n",
              "    <tr>\n",
              "      <th>count</th>\n",
              "      <td>305991.000000</td>\n",
              "    </tr>\n",
              "    <tr>\n",
              "      <th>mean</th>\n",
              "      <td>0.397714</td>\n",
              "    </tr>\n",
              "    <tr>\n",
              "      <th>std</th>\n",
              "      <td>0.489427</td>\n",
              "    </tr>\n",
              "    <tr>\n",
              "      <th>min</th>\n",
              "      <td>0.000000</td>\n",
              "    </tr>\n",
              "    <tr>\n",
              "      <th>25%</th>\n",
              "      <td>0.000000</td>\n",
              "    </tr>\n",
              "    <tr>\n",
              "      <th>50%</th>\n",
              "      <td>0.000000</td>\n",
              "    </tr>\n",
              "    <tr>\n",
              "      <th>75%</th>\n",
              "      <td>1.000000</td>\n",
              "    </tr>\n",
              "    <tr>\n",
              "      <th>max</th>\n",
              "      <td>1.000000</td>\n",
              "    </tr>\n",
              "  </tbody>\n",
              "</table>\n",
              "</div>"
            ],
            "text/plain": [
              "               taken\n",
              "count  305991.000000\n",
              "mean        0.397714\n",
              "std         0.489427\n",
              "min         0.000000\n",
              "25%         0.000000\n",
              "50%         0.000000\n",
              "75%         1.000000\n",
              "max         1.000000"
            ]
          },
          "execution_count": 5,
          "metadata": {},
          "output_type": "execute_result"
        }
      ],
      "source": [
        "dataset.describe()"
      ]
    },
    {
      "cell_type": "code",
      "execution_count": 6,
      "metadata": {
        "id": "AqjKOn29FpiV"
      },
      "outputs": [],
      "source": [
        "# Convert 'history' column to numeric arrays\n",
        "dataset['history'] = dataset['history'].str.split(',').apply(lambda x: [int(i) for i in x])\n",
        "\n",
        "# Further processing if you need to create histogram based on individual element frequencies\n",
        "# all_history_values = list(itertools.chain.from_iterable(dataset['history']))\n",
        "# plt.hist(all_history_values, bins=20)\n",
        "# plt.title(\"Distribution of History Values\")\n",
        "# plt.xlabel(\"Value\")\n",
        "# plt.ylabel(\"Frequency\")\n",
        "# plt.show()"
      ]
    },
    {
      "cell_type": "code",
      "execution_count": 7,
      "metadata": {
        "colab": {
          "base_uri": "https://localhost:8080/",
          "height": 458
        },
        "id": "mH88SWlbGeZl",
        "outputId": "aa6377e6-3d3e-45a0-bf56-51e4823067b1"
      },
      "outputs": [
        {
          "data": {
            "text/plain": [
              "0                                                       [1]\n",
              "1                                                    [1, 1]\n",
              "2                                                 [1, 1, 0]\n",
              "3                                              [1, 1, 0, 1]\n",
              "4                                           [1, 1, 0, 1, 0]\n",
              "                                ...                        \n",
              "305986    [1, 0, 0, 1, 1, 1, 1, 0, 1, 0, 1, 0, 0, 1, 0, ...\n",
              "305987    [0, 0, 1, 1, 1, 1, 0, 1, 0, 1, 0, 0, 1, 0, 0, ...\n",
              "305988    [0, 1, 1, 1, 1, 0, 1, 0, 1, 0, 0, 1, 0, 0, 1, ...\n",
              "305989    [1, 1, 1, 1, 0, 1, 0, 1, 0, 0, 1, 0, 0, 1, 0, ...\n",
              "305990    [1, 1, 1, 0, 1, 0, 1, 0, 0, 1, 0, 0, 1, 0, 0, ...\n",
              "Name: history, Length: 305991, dtype: object"
            ]
          },
          "execution_count": 7,
          "metadata": {},
          "output_type": "execute_result"
        }
      ],
      "source": [
        "dataset['history']"
      ]
    },
    {
      "cell_type": "code",
      "execution_count": 8,
      "metadata": {
        "id": "j8B2QbhfJprz"
      },
      "outputs": [],
      "source": [
        "# Add a new column named position\n",
        "\n",
        "dataset.insert(0, 'position', range(1, len(dataset) + 1))\n",
        "\n",
        "# Using direct assignment:\n",
        "dataset['position'] = range(1, len(dataset) + 1)"
      ]
    },
    {
      "cell_type": "code",
      "execution_count": 9,
      "metadata": {
        "id": "QjevEc6SIxMp"
      },
      "outputs": [],
      "source": [
        "# Split the dataset into train/test (80%/20%)\n",
        "X_train, X_test, y_train, y_test = train_test_split(dataset.drop('taken', axis=1), dataset['taken'], test_size=0.2, random_state=None, shuffle=False)"
      ]
    },
    {
      "cell_type": "code",
      "execution_count": 10,
      "metadata": {
        "colab": {
          "base_uri": "https://localhost:8080/",
          "height": 458
        },
        "id": "sveYjQp4I4U4",
        "outputId": "34a47603-9613-4be0-f4ea-aa6920321ec8"
      },
      "outputs": [
        {
          "data": {
            "text/plain": [
              "0         1\n",
              "1         1\n",
              "2         0\n",
              "3         1\n",
              "4         0\n",
              "         ..\n",
              "244787    0\n",
              "244788    0\n",
              "244789    0\n",
              "244790    0\n",
              "244791    1\n",
              "Name: taken, Length: 244792, dtype: int64"
            ]
          },
          "execution_count": 10,
          "metadata": {},
          "output_type": "execute_result"
        }
      ],
      "source": [
        "y_train"
      ]
    },
    {
      "cell_type": "code",
      "execution_count": 11,
      "metadata": {},
      "outputs": [
        {
          "data": {
            "text/plain": [
              "(244792, 3)"
            ]
          },
          "execution_count": 11,
          "metadata": {},
          "output_type": "execute_result"
        }
      ],
      "source": [
        "X_train.shape"
      ]
    },
    {
      "cell_type": "code",
      "execution_count": 12,
      "metadata": {},
      "outputs": [],
      "source": [
        "X_train['branch_addr'] = X_train['branch_addr'].apply(lambda x: int(x, 16))"
      ]
    },
    {
      "cell_type": "code",
      "execution_count": 16,
      "metadata": {
        "id": "bmLH1mlBMxzT"
      },
      "outputs": [],
      "source": [
        "from sklearn.preprocessing import MultiLabelBinarizer\n",
        "\n",
        "# One-hot encode the 'history' column\n",
        "mlb = MultiLabelBinarizer()\n",
        "history_encoded = mlb.fit_transform(X_train['history'])\n",
        "\n",
        "# Create a new DataFrame for the encoded history\n",
        "history_encoded_df = pd.DataFrame(history_encoded, columns=mlb.classes_, index=X_train.index)\n",
        "\n",
        "# Drop the 'position', and 'history' columns and concatenate the encoded history\n",
        "X_train_new = pd.concat([X_train.drop(columns=['position', 'history']), history_encoded_df], axis=1)\n",
        "\n",
        "clf = SVC(verbose=True)          # SVC will print iteration progress itself\n",
        "# clf.fit(X_train_new[:2000], y_train[:2000])"
      ]
    },
    {
      "cell_type": "code",
      "execution_count": 14,
      "metadata": {},
      "outputs": [
        {
          "name": "stdout",
          "output_type": "stream",
          "text": [
            "Predicted class labels: [0 0 0 0 0 0 0 0 0 0 0 0 0 0 0 0 0 0 0 0 0 0 0 0 0 0 0 0 0 0 0 0 0 0 0 0 0\n",
            " 0 0 0 0 0 0 0 0 0 0 0 0 0 0 0 0 0 0 0 0 0 0 0 0 0 0 0 0 0 0 0 0 0 0 0 0 0\n",
            " 0 0 0 0 0 0 0 0 0 0 0 0 0 0 0 0 0 0 0 0 0 0 0 0 0 0 0 0 0 0 0 0 0 0 0 0 0\n",
            " 0 0 0 0 0 0 0 0 0 0 0 0 0 0 0 0 0 0 0 0 0 0 0 0 0 0 0 0 0 0 0 0 0 0 0 0 0\n",
            " 0 0 0 0 0 0 0 0 0 0 0 0 0 0 0 0 0 0 0 0 0 0 0 0 0 0 0 0 0 0 0 0 0 0 0 0 0\n",
            " 0 0 0 0 0 0 0 0 0 0 0 0 0 0 0 0 0 0 0 0 0 0 0 0 0 0 0 0 0 0 0 0 0 0 0 0 0\n",
            " 0 0 0 0 0 0 0 0 0 0 0 0 0 0 0 0 0 0 0 0 0 0 0 0 0 0 0 0 0 0 0 0 0 0 0 0 0\n",
            " 0 0 0 0 0 0 0 0 0 0 0 0 0 0 0 0 0 0 0 0 0 0 0 0 0 0 0 0 0 0 0 0 0 0 0 0 0\n",
            " 0 0 0 0]\n"
          ]
        },
        {
          "name": "stderr",
          "output_type": "stream",
          "text": [
            "/tmp/ipykernel_32577/1540489122.py:9: FutureWarning: The behavior of array concatenation with empty entries is deprecated. In a future version, this will no longer exclude empty items when determining the result dtype. To retain the old behavior, exclude the empty entries before the concat operation.\n",
            "  X_test_new = pd.concat([X_test.drop(columns=['branch_addr', 'position', 'history']), history_encoded_df], axis=1)\n"
          ]
        }
      ],
      "source": [
        "# One-hot encode the 'history' column\n",
        "mlb = MultiLabelBinarizer()\n",
        "history_encoded = mlb.fit_transform(X_test['history'])\n",
        "\n",
        "# Create a new DataFrame for the encoded history\n",
        "history_encoded_df = pd.DataFrame(history_encoded, columns=mlb.classes_, index=X_test.index)\n",
        "\n",
        "# Drop the 'branch_addr', 'position', and 'history' columns and concatenate the encoded history\n",
        "X_test_new = pd.concat([X_test.drop(columns=['branch_addr', 'position', 'history']), history_encoded_df], axis=1)\n",
        "\n",
        "predictions = clf.predict(X_test_new[:300])\n",
        "print(\"Predicted class labels:\", predictions)"
      ]
    },
    {
      "cell_type": "code",
      "execution_count": 15,
      "metadata": {},
      "outputs": [
        {
          "name": "stdout",
          "output_type": "stream",
          "text": [
            "              precision    recall  f1-score   support\n",
            "\n",
            "   Not Taken       0.60      1.00      0.75       180\n",
            "       Taken       0.00      0.00      0.00       120\n",
            "\n",
            "    accuracy                           0.60       300\n",
            "   macro avg       0.30      0.50      0.38       300\n",
            "weighted avg       0.36      0.60      0.45       300\n",
            "\n",
            "Accuracy: 0.6\n"
          ]
        },
        {
          "name": "stderr",
          "output_type": "stream",
          "text": [
            "/home/gkapakos/anaconda3/lib/python3.10/site-packages/sklearn/metrics/_classification.py:1565: UndefinedMetricWarning: Precision is ill-defined and being set to 0.0 in labels with no predicted samples. Use `zero_division` parameter to control this behavior.\n",
            "  _warn_prf(average, modifier, f\"{metric.capitalize()} is\", len(result))\n",
            "/home/gkapakos/anaconda3/lib/python3.10/site-packages/sklearn/metrics/_classification.py:1565: UndefinedMetricWarning: Precision is ill-defined and being set to 0.0 in labels with no predicted samples. Use `zero_division` parameter to control this behavior.\n",
            "  _warn_prf(average, modifier, f\"{metric.capitalize()} is\", len(result))\n",
            "/home/gkapakos/anaconda3/lib/python3.10/site-packages/sklearn/metrics/_classification.py:1565: UndefinedMetricWarning: Precision is ill-defined and being set to 0.0 in labels with no predicted samples. Use `zero_division` parameter to control this behavior.\n",
            "  _warn_prf(average, modifier, f\"{metric.capitalize()} is\", len(result))\n"
          ]
        }
      ],
      "source": [
        "# Classification report\n",
        "from sklearn.metrics import classification_report\n",
        "print(classification_report(y_test[:300], predictions, target_names=['Not Taken', 'Taken']))\n",
        "\n",
        "import warnings\n",
        "warnings.filterwarnings(\"ignore\")\n",
        "\n",
        "accuracy = accuracy_score(y_test[:300], predictions)\n",
        "print(\"Accuracy:\", accuracy)"
      ]
    },
    {
      "cell_type": "code",
      "execution_count": 17,
      "metadata": {},
      "outputs": [
        {
          "name": "stdout",
          "output_type": "stream",
          "text": [
            "2-bit predictor accuracy: 0.568\n"
          ]
        }
      ],
      "source": [
        "# 2-bit classifier (2-bit branch predictor)\n",
        "\n",
        "class TwoBitPredictor:\n",
        "    def __init__(self):\n",
        "        self.state = 0  # 00: strongly not taken, 01: weakly not taken, 10: weakly taken, 11: strongly taken\n",
        "\n",
        "    def predict(self):\n",
        "        return self.state >= 2\n",
        "\n",
        "    def update(self, taken):\n",
        "        if taken:\n",
        "            if self.state < 3:\n",
        "                self.state += 1\n",
        "        else:\n",
        "            if self.state > 0:\n",
        "                self.state -= 1\n",
        "\n",
        "# Initialize the predictor\n",
        "predictor = TwoBitPredictor()\n",
        "# Simulate the prediction process\n",
        "predictions = []\n",
        "for outcome in y_test:\n",
        "    predictions.append(predictor.predict())\n",
        "    predictor.update(outcome)\n",
        "# Calculate accuracy\n",
        "accuracy = accuracy_score(y_test, predictions)\n",
        "print(f\"2-bit predictor accuracy: {accuracy:.3f}\")"
      ]
    },
    {
      "cell_type": "code",
      "execution_count": 18,
      "metadata": {},
      "outputs": [
        {
          "name": "stdout",
          "output_type": "stream",
          "text": [
            "1-bit predictor accuracy: 0.415\n"
          ]
        }
      ],
      "source": [
        "# 1-bit classifier (1-bit branch predictor)\n",
        "\n",
        "class OneBitPredictor:\n",
        "    def __init__(self):\n",
        "        self.state = 0  # 0: not taken, 1: taken\n",
        "    def predict(self):\n",
        "        return self.state\n",
        "    def update(self, taken):\n",
        "        if taken:\n",
        "            self.state = 1\n",
        "        else:\n",
        "            self.state = 0\n",
        "\n",
        "# Initialize the predictor\n",
        "predictor = OneBitPredictor()\n",
        "# Simulate the prediction process\n",
        "predictions = []\n",
        "for outcome in y_test:\n",
        "    predictions.append(predictor.predict())\n",
        "    predictor.update(outcome)\n",
        "\n",
        "# Calculate accuracy\n",
        "accuracy = accuracy_score(y_test, predictions)\n",
        "print(f\"1-bit predictor accuracy: {accuracy:.3f}\")"
      ]
    },
    {
      "cell_type": "code",
      "execution_count": 22,
      "metadata": {},
      "outputs": [
        {
          "name": "stdout",
          "output_type": "stream",
          "text": [
            "GSHARE predictor accuracy: 0.914\n"
          ]
        }
      ],
      "source": [
        "class GSHAREPredictor:\n",
        "    def __init__(self, table_bits=10):\n",
        "        self.size = 1 << table_bits  # Size of the Pattern History Table (PHT)\n",
        "        self.pht = [2] * self.size   # Initialize counters to 'weakly taken' (value 2)\n",
        "\n",
        "    def predict(self, pc):\n",
        "        index = int(pc, 16) % self.size  # Convert hexadecimal string to integer\n",
        "        counter = self.pht[index]\n",
        "        return counter >= 2  # Predict 'taken' if counter is 2 or 3\n",
        "\n",
        "    def update(self, pc, taken):\n",
        "        index = int(pc, 16) % self.size  # Convert hexadecimal string to integer\n",
        "        counter = self.pht[index]\n",
        "        if taken:\n",
        "            if counter < 3:\n",
        "                self.pht[index] += 1\n",
        "        else:\n",
        "            if counter > 0:\n",
        "                self.pht[index] -= 1\n",
        "\n",
        "# Initialize the predictor\n",
        "predictor = GSHAREPredictor()\n",
        "# Simulate the prediction process\n",
        "predictions = []\n",
        "for pc, outcome in zip(X_test['branch_addr'], y_test):\n",
        "    predictions.append(predictor.predict(pc))\n",
        "    predictor.update(pc, outcome)\n",
        "\n",
        "# Calculate accuracy\n",
        "accuracy = accuracy_score(y_test, predictions)\n",
        "print(f\"GSHARE predictor accuracy: {accuracy:.3f}\")"
      ]
    },
    {
      "cell_type": "code",
      "execution_count": null,
      "metadata": {},
      "outputs": [],
      "source": []
    }
  ],
  "metadata": {
    "accelerator": "GPU",
    "colab": {
      "gpuType": "L4",
      "provenance": []
    },
    "kernelspec": {
      "display_name": "base",
      "language": "python",
      "name": "python3"
    },
    "language_info": {
      "codemirror_mode": {
        "name": "ipython",
        "version": 3
      },
      "file_extension": ".py",
      "mimetype": "text/x-python",
      "name": "python",
      "nbconvert_exporter": "python",
      "pygments_lexer": "ipython3",
      "version": "3.10.14"
    }
  },
  "nbformat": 4,
  "nbformat_minor": 0
}
